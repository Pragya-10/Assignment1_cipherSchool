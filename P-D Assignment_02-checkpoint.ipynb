{
 "cells": [
  {
   "cell_type": "markdown",
   "metadata": {},
   "source": [
    "# Q1 "
   ]
  },
  {
   "cell_type": "code",
   "execution_count": 7,
   "metadata": {},
   "outputs": [
    {
     "name": "stdout",
     "output_type": "stream",
     "text": [
      "enter the number : 10\n",
      "[1, 2, 3, 4, 5, 6, 7, 8, 9, 10]\n",
      "[10, 9, 8, 7, 6, 5, 4, 3, 2, 1]\n"
     ]
    }
   ],
   "source": [
    "n = int(input(\"enter the number : \"))\n",
    "a = []\n",
    "for i in range(n):\n",
    "    a.append(i+1)\n",
    "print(a)\n",
    "a.reverse()\n",
    "print(a)\n",
    "    "
   ]
  },
  {
   "cell_type": "markdown",
   "metadata": {},
   "source": [
    "# Q2"
   ]
  },
  {
   "cell_type": "code",
   "execution_count": 12,
   "metadata": {},
   "outputs": [
    {
     "name": "stdout",
     "output_type": "stream",
     "text": [
      "Enter the number: 99\n",
      "Even nos. : \n",
      "2 4 6 8 10 12 14 16 18 20 22 24 26 28 30 32 34 36 38 40 42 44 46 48 50 52 54 56 58 60 62 64 66 68 70 72 74 76 78 80 82 84 86 88 90 92 94 96 98 \n",
      "odd nos. : \n",
      "1 3 5 7 9 11 13 15 17 19 21 23 25 27 29 31 33 35 37 39 41 43 45 47 49 51 53 55 57 59 61 63 65 67 69 71 73 75 77 79 81 83 85 87 89 91 93 95 97 99 "
     ]
    }
   ],
   "source": [
    "n = int(input(\"Enter the number: \"))\n",
    "if 1<n<100 :\n",
    "    \n",
    "    print(\"Even nos. : \")\n",
    "    for i in range(1, n+1):\n",
    "        if(i % 2 == 0):\n",
    "            print(i, end = \" \")\n",
    "print(end = \"\\n\")\n",
    "print(\"odd nos. : \")\n",
    "for i in range(1, n+1):\n",
    "    if(i % 2 != 0):\n",
    "        print(i, end = \" \")\n",
    "    \n",
    "else :\n",
    "    pass\n",
    "        \n",
    "\n"
   ]
  },
  {
   "cell_type": "markdown",
   "metadata": {},
   "source": [
    "# Q3"
   ]
  },
  {
   "cell_type": "code",
   "execution_count": 16,
   "metadata": {},
   "outputs": [
    {
     "name": "stdout",
     "output_type": "stream",
     "text": [
      "6\n",
      "False\n"
     ]
    }
   ],
   "source": [
    "n = int(input())\n",
    "if n > 1:\n",
    "   for i in range(2, n):\n",
    "      if (n % i) == 0:\n",
    "         print(\"False\")\n",
    "         break\n",
    "   else:\n",
    "      print(\"True\")\n",
    "else:   \n",
    "    print(\"is not prime number\")"
   ]
  },
  {
   "cell_type": "markdown",
   "metadata": {},
   "source": [
    "# Q4 "
   ]
  },
  {
   "cell_type": "code",
   "execution_count": 33,
   "metadata": {},
   "outputs": [
    {
     "name": "stdout",
     "output_type": "stream",
     "text": [
      "enter a number : 10\n",
      "0 3 5 6 9 10 \n",
      "sum :  33\n"
     ]
    }
   ],
   "source": [
    "n = int(input(\"enter a number : \"))\n",
    "sum = 0\n",
    "for i in range(n+1):\n",
    "    if (i % 3 == 0) or (i % 5 == 0):\n",
    "        print(i, end = \" \")\n",
    "\n",
    "        sum = sum+i \n",
    "print(end = \"\\n\")        \n",
    "print(\"sum : \", sum)"
   ]
  },
  {
   "cell_type": "markdown",
   "metadata": {},
   "source": [
    "# Q5"
   ]
  },
  {
   "cell_type": "code",
   "execution_count": null,
   "metadata": {},
   "outputs": [],
   "source": [
    "n=int(input(\"Enter any number : \"))\n",
    "print(\"Please Choose any one the options : \")\n",
    "print(\"Sum\",end=\"\\n\")\n",
    "print(\"Product\",end=\"\\n\")\n",
    "\n",
    "choice=input()\n",
    "if(choice==\"sum\" or choice==\"SUM\" or choice==\"Sum\"):\n",
    "    mysum()\n",
    "    \n",
    "elif(choice==\"product\" or choice==\"PRODUCT\" or choice==\"Product\"):\n",
    "    product()\n",
    "    \n",
    "else:\n",
    "    print(\"Wrong option \")\n",
    "    \n",
    "def mysum():\n",
    "    \n",
    "    count=0\n",
    "    for i in range(n+1):\n",
    "        count=count+i\n",
    "    print(count)\n",
    "\n",
    "def product():\n",
    "    multiply=1\n",
    "    for i in range(n):\n",
    "        multiply=multiply*(i+1)  \n",
    "    print(multiply)"
   ]
  },
  {
   "cell_type": "markdown",
   "metadata": {},
   "source": [
    "# Q6"
   ]
  },
  {
   "cell_type": "code",
   "execution_count": 84,
   "metadata": {},
   "outputs": [
    {
     "name": "stdout",
     "output_type": "stream",
     "text": [
      "sum :  233168\n"
     ]
    }
   ],
   "source": [
    "sum = 0\n",
    "for i in range(1000):\n",
    "    if (i % 3 == 0) or (i % 5 == 0):\n",
    "        sum = sum+i     \n",
    "print(\"sum : \", sum)"
   ]
  },
  {
   "cell_type": "markdown",
   "metadata": {},
   "source": [
    "# Q7"
   ]
  },
  {
   "cell_type": "code",
   "execution_count": 79,
   "metadata": {},
   "outputs": [
    {
     "name": "stdout",
     "output_type": "stream",
     "text": [
      "numbers : \n",
      "2002 2009 2016 2023 2037 2044 2051 2058 2072 2079 2086 2093 2107 2114 2121 2128 2142 2149 2156 2163 2177 2184 2191 2198 2212 2219 2226 2233 2247 2254 2261 2268 2282 2289 2296 2303 2317 2324 2331 2338 2352 2359 2366 2373 2387 2394 2401 2408 2422 2429 2436 2443 2457 2464 2471 2478 2492 2499 2506 2513 2527 2534 2541 2548 2562 2569 2576 2583 2597 2604 2611 2618 2632 2639 2646 2653 2667 2674 2681 2688 2702 2709 2716 2723 2737 2744 2751 2758 2772 2779 2786 2793 2807 2814 2821 2828 2842 2849 2856 2863 2877 2884 2891 2898 2912 2919 2926 2933 2947 2954 2961 2968 2982 2989 2996 3003 3017 3024 3031 3038 3052 3059 3066 3073 3087 3094 3101 3108 3122 3129 3136 3143 3157 3164 3171 3178 3192 3199 "
     ]
    }
   ],
   "source": [
    "print(\"numbers : \")\n",
    "for i in range(2000,3201):\n",
    "    if (i % 7 == 0) and (i % 5 != 0):\n",
    "        print(i, end = \" \")"
   ]
  },
  {
   "cell_type": "markdown",
   "metadata": {},
   "source": [
    "# Q8"
   ]
  },
  {
   "cell_type": "code",
   "execution_count": null,
   "metadata": {},
   "outputs": [],
   "source": [
    "s = range(0,101)\n",
    "a = int(sum(s))\n",
    "print(a*a- sum(i*i for i in s))"
   ]
  },
  {
   "cell_type": "markdown",
   "metadata": {},
   "source": [
    "# Q9"
   ]
  },
  {
   "cell_type": "code",
   "execution_count": 103,
   "metadata": {},
   "outputs": [
    {
     "name": "stdout",
     "output_type": "stream",
     "text": [
      "Enter a number : 5\n",
      "Factorial of  5 is :  120\n"
     ]
    }
   ],
   "source": [
    "n=int(input(\"Enter a number : \"))\n",
    "def fact(n):\n",
    "    if n==1 or n==0:\n",
    "        return 1\n",
    "    else:\n",
    "        return n*fact(n-1)\n",
    "print(\"Factorial of \", n , \"is : \", fact(n))"
   ]
  },
  {
   "cell_type": "markdown",
   "metadata": {},
   "source": [
    "# Q10"
   ]
  },
  {
   "cell_type": "code",
   "execution_count": 112,
   "metadata": {},
   "outputs": [
    {
     "name": "stdout",
     "output_type": "stream",
     "text": [
      "\n",
      "\n",
      "1 \n",
      "\n",
      "2 2 \n",
      "\n",
      "3 3 3 \n",
      "\n",
      "4 4 4 4 \n",
      "\n",
      "5 5 5 5 5 \n",
      "\n"
     ]
    }
   ],
   "source": [
    "n=5\n",
    "for i in range(n+1):\n",
    "    for j in range(i):\n",
    "        print(i,end=\" \")\n",
    "    print(\"\\n\")"
   ]
  },
  {
   "cell_type": "code",
   "execution_count": 108,
   "metadata": {},
   "outputs": [
    {
     "name": "stdout",
     "output_type": "stream",
     "text": [
      "5 5 5 5 5 \n",
      "5 4 4 4 5 \n",
      "5 4 3 4 5 \n",
      "5 4 4 4 5 \n",
      "5 5 5 5 5 \n"
     ]
    }
   ],
   "source": [
    "n=5\n",
    "for i in range(n):\n",
    "    for j in range(n):\n",
    "        print(max(i+1,j+1,n-i,n-j),end = \" \")\n",
    "    print()"
   ]
  },
  {
   "cell_type": "code",
   "execution_count": 113,
   "metadata": {},
   "outputs": [
    {
     "name": "stdout",
     "output_type": "stream",
     "text": [
      "\n",
      "\n",
      "* \n",
      "* * \n",
      "* * * \n",
      "* * * * \n",
      "* * * * * \n"
     ]
    }
   ],
   "source": [
    "n=5\n",
    "for i in range(n+1):\n",
    "    print(\"\")\n",
    "    for j in range(i):\n",
    "        print(\"*\",end=\" \")\n",
    "print(\"\")"
   ]
  },
  {
   "cell_type": "code",
   "execution_count": 118,
   "metadata": {},
   "outputs": [
    {
     "name": "stdout",
     "output_type": "stream",
     "text": [
      "**** \n",
      "*** \n",
      "** \n",
      "* \n",
      " \n"
     ]
    }
   ],
   "source": [
    "n=4\n",
    "for i in range(n+1,0,-1):\n",
    "    for j in range(0,i-1):\n",
    "        print(\"*\",end=\"\")\n",
    "    print(\" \")"
   ]
  },
  {
   "cell_type": "code",
   "execution_count": 120,
   "metadata": {},
   "outputs": [
    {
     "name": "stdout",
     "output_type": "stream",
     "text": [
      "#####\n",
      "#####\n",
      "#####\n",
      "#####\n",
      "#####\n"
     ]
    }
   ],
   "source": [
    "n=5\n",
    "for i in range(n-1):\n",
    "    print(\"#\"*n)\n",
    "print(\"#\"*(n))"
   ]
  },
  {
   "cell_type": "markdown",
   "metadata": {},
   "source": [
    "# Q11"
   ]
  },
  {
   "cell_type": "code",
   "execution_count": 126,
   "metadata": {},
   "outputs": [
    {
     "name": "stdout",
     "output_type": "stream",
     "text": [
      "Enter a number : 9\n",
      "The sum is :  9 + 99 + 999 + 9999 =\n",
      "11106\n"
     ]
    }
   ],
   "source": [
    "n=int(input(\"Enter a number : \"))\n",
    "\n",
    "n1=str(n)*1\n",
    "n2=str(n)*2\n",
    "n3=str(n)*3\n",
    "n4=str(n)*4\n",
    "print(\"The sum is : \",n1 ,\"+\",n2,\"+\",n3,\"+\",n4,\"=\")\n",
    "mysum= int(n1)+int(n2)+int(n3)+int(n4)\n",
    "print(mysum)"
   ]
  },
  {
   "cell_type": "markdown",
   "metadata": {},
   "source": [
    "# Q12"
   ]
  },
  {
   "cell_type": "code",
   "execution_count": 136,
   "metadata": {},
   "outputs": [
    {
     "name": "stdout",
     "output_type": "stream",
     "text": [
      "Enter name : pragya\n",
      "6\n"
     ]
    }
   ],
   "source": [
    "n=input(\"Enter name : \")\n",
    "def length(n):\n",
    "    count=0\n",
    "    for i in n:\n",
    "        count=count+1\n",
    "    return count\n",
    "print(length(n))\n"
   ]
  },
  {
   "cell_type": "markdown",
   "metadata": {},
   "source": [
    "# Q13"
   ]
  },
  {
   "cell_type": "code",
   "execution_count": 146,
   "metadata": {},
   "outputs": [
    {
     "name": "stdout",
     "output_type": "stream",
     "text": [
      "Sentence : hey 123 \n",
      "Letter :  3\n",
      "Digits :  3\n"
     ]
    }
   ],
   "source": [
    "n=input(\"Sentence : \")\n",
    "d=l=0\n",
    "for i in n:\n",
    "    if i.isdigit():\n",
    "        d=d+1\n",
    "    elif i.isalpha():\n",
    "        l=l+1\n",
    "    else:\n",
    "        pass\n",
    "print(\"Letter : \",l)\n",
    "print(\"Digits : \",d)"
   ]
  },
  {
   "cell_type": "markdown",
   "metadata": {},
   "source": [
    "# Q14"
   ]
  },
  {
   "cell_type": "code",
   "execution_count": 147,
   "metadata": {},
   "outputs": [
    {
     "name": "stdout",
     "output_type": "stream",
     "text": [
      "String : pragya\n",
      "PRAGYA"
     ]
    }
   ],
   "source": [
    "n=input(\"String : \")\n",
    "for i in n:\n",
    "    if i.isalpha():\n",
    "        print(i.capitalize(),end=\"\")"
   ]
  },
  {
   "cell_type": "markdown",
   "metadata": {},
   "source": [
    "# Q15"
   ]
  },
  {
   "cell_type": "code",
   "execution_count": 148,
   "metadata": {},
   "outputs": [
    {
     "name": "stdout",
     "output_type": "stream",
     "text": [
      "sentense : pRAgyA\n",
      "Upper Case :   3\n",
      "Lower Case :   3\n"
     ]
    }
   ],
   "source": [
    "n=input(\"sentense : \")\n",
    "u=l=0\n",
    "for i in n:\n",
    "    if i.isupper():\n",
    "        u=u+1\n",
    "    elif i.islower():\n",
    "        l=l+1\n",
    "    else:\n",
    "        pass\n",
    "print(\"Upper Case :  \",u)\n",
    "print(\"Lower Case :  \",l)"
   ]
  },
  {
   "cell_type": "markdown",
   "metadata": {},
   "source": [
    "# Q16"
   ]
  },
  {
   "cell_type": "code",
   "execution_count": 151,
   "metadata": {},
   "outputs": [
    {
     "name": "stdout",
     "output_type": "stream",
     "text": [
      "Sentence : pragya\n",
      "Character : a\n",
      "number of characters : \n",
      "2\n"
     ]
    }
   ],
   "source": [
    "n=input(\"Sentence : \")\n",
    "m=input(\"Character : \")\n",
    "count=0\n",
    "print(\"number of characters : \")\n",
    "for i in n:\n",
    "    if i==m:\n",
    "        count=count+1\n",
    "print(str(count))"
   ]
  },
  {
   "cell_type": "markdown",
   "metadata": {},
   "source": [
    "# Q17"
   ]
  },
  {
   "cell_type": "code",
   "execution_count": 154,
   "metadata": {},
   "outputs": [
    {
     "name": "stdout",
     "output_type": "stream",
     "text": [
      "String : nen\n",
      "Palindrome\n"
     ]
    }
   ],
   "source": [
    "n=input(\"String : \")\n",
    "def mypalindrome(n):\n",
    "    return n==n[::-1]\n",
    "temp=mypalindrome(n)\n",
    "if temp:\n",
    "    print(\"Palindrome\")\n",
    "else:\n",
    "    print(\"Not a Palindrome\")"
   ]
  },
  {
   "cell_type": "markdown",
   "metadata": {},
   "source": [
    "# Q18"
   ]
  },
  {
   "cell_type": "code",
   "execution_count": 159,
   "metadata": {},
   "outputs": [
    {
     "name": "stdout",
     "output_type": "stream",
     "text": [
      "String 1 : pragya\n",
      "String 2 : ppk\n",
      "Not a substring\n"
     ]
    }
   ],
   "source": [
    "s1=input(\"String 1 : \")\n",
    "s2=input(\"String 2 : \")\n",
    "def finder(s1, s2):\n",
    "    if (s1.find(s2) == -1):\n",
    "        print(\"Not a substring\")\n",
    "    else:\n",
    "        print(\"It's a substring\")\n",
    "finder(s1,s2)"
   ]
  },
  {
   "cell_type": "markdown",
   "metadata": {},
   "source": [
    "# Q20"
   ]
  },
  {
   "cell_type": "code",
   "execution_count": 167,
   "metadata": {},
   "outputs": [
    {
     "name": "stdout",
     "output_type": "stream",
     "text": [
      " Vowels :  ['e', 'o', 'o', 'a', 'e', 'o', 'u', 'a']\n"
     ]
    }
   ],
   "source": [
    "s=\"Hello how are you all\"\n",
    "list=[]\n",
    "for i in s:\n",
    "    if i=='a'or i=='i'or i=='e'or i== 'o'or i== 'u' or i=='A'or i=='I'or i=='E'or i== 'O'or i== 'U':\n",
    "        list.append(i)\n",
    "print(\" Vowels : \",list)"
   ]
  },
  {
   "cell_type": "markdown",
   "metadata": {},
   "source": [
    "# Q19"
   ]
  },
  {
   "cell_type": "code",
   "execution_count": 183,
   "metadata": {},
   "outputs": [
    {
     "name": "stdout",
     "output_type": "stream",
     "text": [
      "While Registering please keep in mind the following\n",
      "\n",
      "Criteria for the password: \n",
      " 1.Password should have At least 1 letter between [a-z] \n",
      " 2.Password should have At least 1 number between [0-9] \n",
      " 3.Password should have At least 1 letter between [@$#%&] \n",
      "\n",
      "Enter Username Here: pragya\n",
      "Enter Password Here: Pragya@1\n",
      "\n",
      "Registeration Successful\n"
     ]
    }
   ],
   "source": [
    "\n",
    "print(\"While Registering please keep in mind the following\\n\")\n",
    "print(\"Criteria for the password: \\n\",\n",
    "\n",
    "\"1.Password should have At least 1 letter between [a-z] \\n\",\n",
    "\n",
    "\"2.Password should have At least 1 number between [0-9] \\n\",\n",
    "\n",
    "\"3.Password should have At least 1 letter between [@$#%&] \\n\")\n",
    "\n",
    "def password_check(passwd):\n",
    "      \n",
    "    SpecialSym =['@', '$', '#', '%', '&']\n",
    "    val = True\n",
    "          \n",
    "    if not any(char.isdigit() for char in passwd):\n",
    "        print(\"Password should have At least 1 number between [0-9] \")\n",
    "        val = False\n",
    "          \n",
    "    if not any(char.isalpha() for char in passwd):\n",
    "        print(\"Password should have At least 1 letter between [a-z] \")\n",
    "        val = False\n",
    "          \n",
    "    if not any(char in SpecialSym for char in passwd):\n",
    "        print(\"Password should have At least one of the symbols [@$#%&] \")\n",
    "        val = False\n",
    "    if val:\n",
    "        return val\n",
    "  \n",
    "\n",
    "\n",
    "username=input(\"Enter Username Here: \")\n",
    "passwd=input(\"Enter Password Here: \")\n",
    "\n",
    "\n",
    "print(end = \"\\n\")      \n",
    "if (password_check(passwd)):\n",
    "    print(\"Registeration Successful\")\n",
    "else:\n",
    "    print(\"Invalid Password !!! Please Read the Criteria of Password Carefully \")"
   ]
  },
  {
   "cell_type": "code",
   "execution_count": null,
   "metadata": {},
   "outputs": [],
   "source": []
  }
 ],
 "metadata": {
  "kernelspec": {
   "display_name": "Python 3",
   "language": "python",
   "name": "python3"
  },
  "language_info": {
   "codemirror_mode": {
    "name": "ipython",
    "version": 3
   },
   "file_extension": ".py",
   "mimetype": "text/x-python",
   "name": "python",
   "nbconvert_exporter": "python",
   "pygments_lexer": "ipython3",
   "version": "3.8.5"
  }
 },
 "nbformat": 4,
 "nbformat_minor": 4
}
